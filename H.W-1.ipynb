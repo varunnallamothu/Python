{
 "cells": [
  {
   "cell_type": "code",
   "execution_count": 9,
   "metadata": {
    "collapsed": false
   },
   "outputs": [
    {
     "name": "stdout",
     "output_type": "stream",
     "text": [
      "please enter you num1:\n"
     ]
    },
    {
     "ename": "SyntaxError",
     "evalue": "unexpected EOF while parsing (<string>, line 0)",
     "output_type": "error",
     "traceback": [
      "\u001b[0;36m  File \u001b[0;32m\"<string>\"\u001b[0;36m, line \u001b[0;32munknown\u001b[0m\n\u001b[0;31m    \u001b[0m\n\u001b[0m    ^\u001b[0m\n\u001b[0;31mSyntaxError\u001b[0m\u001b[0;31m:\u001b[0m unexpected EOF while parsing\n"
     ]
    }
   ],
   "source": [
    "num1 = input(\"please enter you num1:\")\n",
    "num2 = input(\"please enter your num2:\")\n",
    "num3 = input(\"please enter your num3:\")\n",
    "\n",
    "if num1 > num2 and num1 > num3:\n",
    "    print \"{0} is greater than {1} and {2}\".format(num1,num2,num3)\n",
    "elif num2 > num1 and num2 > num3:\n",
    "    print \"{1} is greater than {0} and {2}\".format(num1,num2,num3)\n",
    "elif num3 > num1 and num3 > num2:\n",
    "    print \"{2} is greater than {1} and {0}\".format(num1,num2,num3)\n",
    "elif num1 == num2 and num2 == num3:\n",
    "    print \"{0}  {1} and {2} are all equals\".format(num1,num2,num3)\n",
    "elif num1 == num2:\n",
    "    if num1 > num3:\n",
    "        print \"{0} and {1} is greater than {2}\".format(num1,num2,num3)\n",
    "    else:\n",
    "        print \"{2} is greater than {0} and {1}\".format(num1,num2,num3)\n",
    "elif num2 == num3:\n",
    "    if num2 > num1:\n",
    "        print \"{2} and {1} is greater than {0}\".format(num1,num2,num3)\n",
    "    else:\n",
    "        print \"{0} is greater than {2} and {1}\".format(num1,num2,num3)\n",
    "elif num1 == num3:\n",
    "    if num1 > num2:\n",
    "        print \"{2} and {0} is greater than {1}\".format(num1,num2,num3)\n",
    "    else:\n",
    "        print \"{2} is greater than {2} and {0}\".format(num1,num2,num3)\n",
    "else:\n",
    "    pass\n",
    "        \n",
    "        \n",
    "    "
   ]
  }
 ],
 "metadata": {
  "kernelspec": {
   "display_name": "Python 2",
   "language": "python",
   "name": "python2"
  },
  "language_info": {
   "codemirror_mode": {
    "name": "ipython",
    "version": 2
   },
   "file_extension": ".py",
   "mimetype": "text/x-python",
   "name": "python",
   "nbconvert_exporter": "python",
   "pygments_lexer": "ipython2",
   "version": "2.7.13"
  }
 },
 "nbformat": 4,
 "nbformat_minor": 2
}
