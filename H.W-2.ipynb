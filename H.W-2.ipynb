{
 "cells": [
  {
   "cell_type": "code",
   "execution_count": 15,
   "metadata": {
    "collapsed": false
   },
   "outputs": [
    {
     "name": "stdout",
     "output_type": "stream",
     "text": [
      "do you want to play the game:y\n",
      "please guess your number:10\n",
      "buddy!!! you guessed a number sligthly smaller\n",
      "please guess your number:15\n",
      "buddy!!! you guessed a number sligthly smaller\n",
      "please guess your number:18\n",
      "buddy!!! you guessed a number slightly larger\n",
      "you ran out of chances. Please come back to play again !!!\n"
     ]
    }
   ],
   "source": [
    "import sys\n",
    "import random\n",
    "\n",
    "\n",
    "yn = raw_input(\"do you want to play the game:\")\n",
    "if yn == 'n':\n",
    "    sys.exit()\n",
    "\n",
    "number = random.randint(0,20)\n",
    "#test = True\n",
    "#while test:\n",
    "for i in \"abc\":\n",
    "    answer = int(raw_input(\"please guess your number:\"))\n",
    "    if answer > number:\n",
    "        print \"buddy!!! you guessed a number slightly larger\"\n",
    "    elif answer < number:\n",
    "        print \"buddy!!! you guessed a number sligthly smaller\"\n",
    "    elif answer == number:\n",
    "        print \"congo!! you guessed the right number\"\n",
    "        #test = False\n",
    "        break\n",
    "print \"you ran out of chances. Please come back to play again !!!\"\n",
    "\n"
   ]
  }
 ],
 "metadata": {
  "kernelspec": {
   "display_name": "Python 2",
   "language": "python",
   "name": "python2"
  }
 },
 "nbformat": 4,
 "nbformat_minor": 2
}
