{
 "cells": [
  {
   "cell_type": "code",
   "execution_count": 29,
   "metadata": {
    "collapsed": false
   },
   "outputs": [
    {
     "name": "stdout",
     "output_type": "stream",
     "text": [
      "i love to code\n"
     ]
    }
   ],
   "source": [
    "my_string = \"i love to code\"\n",
    "print my_string"
   ]
  },
  {
   "cell_type": "code",
   "execution_count": 30,
   "metadata": {
    "collapsed": false
   },
   "outputs": [
    {
     "name": "stdout",
     "output_type": "stream",
     "text": [
      "I love to code\n"
     ]
    }
   ],
   "source": [
    "print my_string.capitalize()"
   ]
  },
  {
   "cell_type": "code",
   "execution_count": 31,
   "metadata": {
    "collapsed": false
   },
   "outputs": [
    {
     "data": {
      "text/plain": [
       "'9999999999999999999999999999999999999999999i love to code9999999999999999999999999999999999999999999'"
      ]
     },
     "execution_count": 31,
     "metadata": {},
     "output_type": "execute_result"
    }
   ],
   "source": [
    "my_string.center(100,'9')"
   ]
  },
  {
   "cell_type": "code",
   "execution_count": 38,
   "metadata": {
    "collapsed": false
   },
   "outputs": [
    {
     "name": "stdout",
     "output_type": "stream",
     "text": [
      "3\n"
     ]
    }
   ],
   "source": [
    "sub = 'o'\n",
    "print my_string.count(sub,0,)"
   ]
  },
  {
   "cell_type": "code",
   "execution_count": 6,
   "metadata": {
    "collapsed": false
   },
   "outputs": [
    {
     "name": "stdout",
     "output_type": "stream",
     "text": [
      "encoded string:aSBsb3ZlIHRvIGNvZGU=\n",
      "\n",
      "decoded string: i love to code\n"
     ]
    }
   ],
   "source": [
    "my_string = \"i love to code\"\n",
    "my_string = my_string.encode('base64','strict')\n",
    "print 'encoded string:'+ my_string\n",
    "print 'decoded string:',(my_string.decode('base64','strict'))"
   ]
  },
  {
   "cell_type": "code",
   "execution_count": 47,
   "metadata": {
    "collapsed": false
   },
   "outputs": [
    {
     "name": "stdout",
     "output_type": "stream",
     "text": [
      "False\n",
      "False\n"
     ]
    }
   ],
   "source": [
    "my_string = 'i love to eat'\n",
    "sub = 'ea'\n",
    "print my_string.endswith(sub)\n",
    "print my_string.endswith(sub,0,5)"
   ]
  },
  {
   "cell_type": "code",
   "execution_count": 42,
   "metadata": {
    "collapsed": false
   },
   "outputs": [
    {
     "name": "stdout",
     "output_type": "stream",
     "text": [
      "hey!!    how are you\n",
      "hey!!            how are you\n"
     ]
    }
   ],
   "source": [
    "my_string = 'hey!!\\t how are you'\n",
    "print my_string.expandtabs()\n",
    "print my_string.expandtabs(16)"
   ]
  },
  {
   "cell_type": "code",
   "execution_count": 54,
   "metadata": {
    "collapsed": false
   },
   "outputs": [
    {
     "name": "stdout",
     "output_type": "stream",
     "text": [
      "10\n",
      "10\n"
     ]
    }
   ],
   "source": [
    "\n",
    "print my_string.find(sub,0,12)\n",
    "print my_string.find(sub,0,)\n"
   ]
  },
  {
   "cell_type": "code",
   "execution_count": 59,
   "metadata": {
    "collapsed": false
   },
   "outputs": [
    {
     "name": "stdout",
     "output_type": "stream",
     "text": [
      "varun place im middle.\n"
     ]
    }
   ],
   "source": [
    "my_string = 'varun {}.'\n",
    "print my_string.format('place im middle')\n"
   ]
  },
  {
   "cell_type": "code",
   "execution_count": 73,
   "metadata": {
    "collapsed": false
   },
   "outputs": [
    {
     "name": "stdout",
     "output_type": "stream",
     "text": [
      "4\n"
     ]
    }
   ],
   "source": [
    "my_string = \"132455\"\n",
    "sub = '5'\n",
    "print my_string.index(sub,0,)\n",
    "\n"
   ]
  },
  {
   "cell_type": "code",
   "execution_count": 75,
   "metadata": {
    "collapsed": false
   },
   "outputs": [
    {
     "name": "stdout",
     "output_type": "stream",
     "text": [
      "True\n"
     ]
    }
   ],
   "source": [
    "print my_string.isalnum()\n"
   ]
  },
  {
   "cell_type": "code",
   "execution_count": 80,
   "metadata": {
    "collapsed": false
   },
   "outputs": [
    {
     "data": {
      "text/plain": [
       "True"
      ]
     },
     "execution_count": 80,
     "metadata": {},
     "output_type": "execute_result"
    }
   ],
   "source": [
    "my_string = \"hello\"\n",
    "my_string.isalpha()\n"
   ]
  },
  {
   "cell_type": "code",
   "execution_count": 85,
   "metadata": {
    "collapsed": false
   },
   "outputs": [
    {
     "data": {
      "text/plain": [
       "True"
      ]
     },
     "execution_count": 85,
     "metadata": {},
     "output_type": "execute_result"
    }
   ],
   "source": [
    "my_string = \"23\"\n",
    "my_string.isdigit()"
   ]
  },
  {
   "cell_type": "code",
   "execution_count": 106,
   "metadata": {
    "collapsed": false
   },
   "outputs": [
    {
     "data": {
      "text/plain": [
       "True"
      ]
     },
     "execution_count": 106,
     "metadata": {},
     "output_type": "execute_result"
    }
   ],
   "source": [
    "my_string = \"jldlduy;    \"\n",
    "my_string.islower()"
   ]
  },
  {
   "cell_type": "code",
   "execution_count": 108,
   "metadata": {
    "collapsed": false
   },
   "outputs": [
    {
     "data": {
      "text/plain": [
       "True"
      ]
     },
     "execution_count": 108,
     "metadata": {},
     "output_type": "execute_result"
    }
   ],
   "source": [
    "my_string = \"   \"\n",
    "my_string.isspace()\n"
   ]
  },
  {
   "cell_type": "code",
   "execution_count": 118,
   "metadata": {
    "collapsed": false
   },
   "outputs": [
    {
     "data": {
      "text/plain": [
       "True"
      ]
     },
     "execution_count": 118,
     "metadata": {},
     "output_type": "execute_result"
    }
   ],
   "source": [
    "my_string = \"Hello How Are U\"\n",
    "my_string.istitle()\n"
   ]
  },
  {
   "cell_type": "code",
   "execution_count": 122,
   "metadata": {
    "collapsed": false
   },
   "outputs": [
    {
     "data": {
      "text/plain": [
       "True"
      ]
     },
     "execution_count": 122,
     "metadata": {},
     "output_type": "execute_result"
    }
   ],
   "source": [
    "my_string = \"HELLO\"\n",
    "my_string.isupper()"
   ]
  },
  {
   "cell_type": "code",
   "execution_count": 126,
   "metadata": {
    "collapsed": false
   },
   "outputs": [
    {
     "name": "stdout",
     "output_type": "stream",
     "text": [
      "gvaghkdg;\n"
     ]
    }
   ],
   "source": [
    "a = 'k'\n",
    "seq = ('gvagh','dg;',)\n",
    "print a.join(seq)"
   ]
  },
  {
   "cell_type": "code",
   "execution_count": 61,
   "metadata": {
    "collapsed": false
   },
   "outputs": [
    {
     "name": "stdout",
     "output_type": "stream",
     "text": [
      "55555555555555555hello555555555555555555\n",
      "55555555555555555hello555555555555555555\n"
     ]
    }
   ],
   "source": [
    "\n",
    "print my_string.ljust(20,'a')\n",
    "print my_string.rjust(33,'d')"
   ]
  },
  {
   "cell_type": "code",
   "execution_count": 62,
   "metadata": {
    "collapsed": false
   },
   "outputs": [
    {
     "name": "stdout",
     "output_type": "stream",
     "text": [
      "55555555555555555hello555555555555555555\n",
      "55555555555555555HELLO555555555555555555\n"
     ]
    }
   ],
   "source": [
    "print my_string.lower()\n",
    "print my_string.upper()"
   ]
  },
  {
   "cell_type": "code",
   "execution_count": 63,
   "metadata": {
    "collapsed": false
   },
   "outputs": [
    {
     "name": "stdout",
     "output_type": "stream",
     "text": [
      "    hello how are you\n",
      "hello555555555555555555\n"
     ]
    }
   ],
   "source": [
    "my_string = \"    hello how are you               \"\n",
    "print my_string.rstrip()\n",
    "my_string = \"55555555555555555hello555555555555555555\"\n",
    "print my_string.lstrip('5')"
   ]
  },
  {
   "cell_type": "code",
   "execution_count": 64,
   "metadata": {
    "collapsed": false
   },
   "outputs": [
    {
     "name": "stdout",
     "output_type": "stream",
     "text": [
      "55555555555555555\n",
      "hello\n",
      "555555555555555555\n"
     ]
    }
   ],
   "source": [
    "for i in my_string.partition(\"hello\"):\n",
    "    print  i"
   ]
  },
  {
   "cell_type": "code",
   "execution_count": 65,
   "metadata": {
    "collapsed": false
   },
   "outputs": [
    {
     "name": "stdout",
     "output_type": "stream",
     "text": [
      "55555555555555555hejlo555555555555555555\n"
     ]
    }
   ],
   "source": [
    "print my_string.replace(\"l\",\"j\",1)"
   ]
  },
  {
   "cell_type": "code",
   "execution_count": 66,
   "metadata": {
    "collapsed": false
   },
   "outputs": [
    {
     "name": "stdout",
     "output_type": "stream",
     "text": [
      "17\n"
     ]
    }
   ],
   "source": [
    "sub = \"hello\"\n",
    "print my_string.rfind(sub,0)"
   ]
  },
  {
   "cell_type": "code",
   "execution_count": 67,
   "metadata": {
    "collapsed": false
   },
   "outputs": [
    {
     "name": "stdout",
     "output_type": "stream",
     "text": [
      "17\n"
     ]
    }
   ],
   "source": [
    "print my_string.rindex(sub,0)"
   ]
  },
  {
   "cell_type": "code",
   "execution_count": 68,
   "metadata": {
    "collapsed": false
   },
   "outputs": [
    {
     "name": "stdout",
     "output_type": "stream",
     "text": [
      "('55555555555555555hello55555555555555', '5555', '')\n"
     ]
    }
   ],
   "source": [
    "print my_string.rpartition(\"5555\")"
   ]
  },
  {
   "cell_type": "code",
   "execution_count": 69,
   "metadata": {
    "collapsed": false
   },
   "outputs": [
    {
     "ename": "SyntaxError",
     "evalue": "invalid syntax (<ipython-input-69-796750835b7a>, line 1)",
     "output_type": "error",
     "traceback": [
      "\u001b[0;36m  File \u001b[0;32m\"<ipython-input-69-796750835b7a>\"\u001b[0;36m, line \u001b[0;32m1\u001b[0m\n\u001b[0;31m    my_string.\u001b[0m\n\u001b[0m              ^\u001b[0m\n\u001b[0;31mSyntaxError\u001b[0m\u001b[0;31m:\u001b[0m invalid syntax\n"
     ]
    }
   ],
   "source": [
    "my_string."
   ]
  },
  {
   "cell_type": "code",
   "execution_count": 90,
   "metadata": {
    "collapsed": false
   },
   "outputs": [
    {
     "name": "stdout",
     "output_type": "stream",
     "text": [
      "['55555555555555555', 'ello555555555555555555']\n",
      "1\n",
      "40\n"
     ]
    }
   ],
   "source": [
    "sub = \"h\"\n",
    "print my_string.split(sub,1)\n",
    "print len(sub)\n",
    "print len(my_string)"
   ]
  },
  {
   "cell_type": "code",
   "execution_count": 104,
   "metadata": {
    "collapsed": false
   },
   "outputs": [
    {
     "name": "stdout",
     "output_type": "stream",
     "text": [
      "['hupieygoweg;iph weogfpw e wpe8y we8yf8pwe g8yef pewe8yf wufui9g weryfig 8weyf ']\n"
     ]
    }
   ],
   "source": [
    "my_string = \"hupieygoweg;iph weogfpw e wpe8y we8yf8pwe g8yef pewe8yf wufui9g weryfig 8weyf \"\n",
    "print my_string.splitlines(22)"
   ]
  },
  {
   "cell_type": "code",
   "execution_count": 117,
   "metadata": {
    "collapsed": false
   },
   "outputs": [
    {
     "name": "stdout",
     "output_type": "stream",
     "text": [
      "False\n",
      "HUPIEYGOWEG;IPH WEOGFPW E WPE8Y WE8YF8PWE G8YEF PEWE8YF WUFUI9G WERYFIG 8WEYF \n",
      "Hupieygoweg;Iph Weogfpw E Wpe8Y We8Yf8Pwe G8Yef Pewe8Yf Wufui9G Weryfig 8Weyf \n",
      "hupieygoweg;iph weogfpw e wpe8y we8yf8pwe g8yef pewe8yf wufui9g weryfig 8weyf \n"
     ]
    }
   ],
   "source": [
    "sub = \"v\"\n",
    "print my_string.startswith(sub)\n",
    "print my_string.swapcase()\n",
    "print my_string.title()\n",
    "print my_string.zfill(48)"
   ]
  }
 ],
 "metadata": {
  "kernelspec": {
   "display_name": "Python 2",
   "language": "python",
   "name": "python2"
  },
  "language_info": {
   "codemirror_mode": {
    "name": "ipython",
    "version": 2
   },
   "file_extension": ".py",
   "mimetype": "text/x-python",
   "name": "python",
   "nbconvert_exporter": "python",
   "pygments_lexer": "ipython2",
   "version": "2.7.13"
  }
 },
 "nbformat": 4,
 "nbformat_minor": 2
}
